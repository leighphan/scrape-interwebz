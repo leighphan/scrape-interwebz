{
 "cells": [
  {
   "cell_type": "markdown",
   "metadata": {},
   "source": [
    "# Webscraping Problem Set"
   ]
  },
  {
   "cell_type": "markdown",
   "metadata": {},
   "source": [
    "First, run the code below to import the `requests` and `BeautifulSoup` libraries, as well as some other libraries we will be using."
   ]
  },
  {
   "cell_type": "code",
   "execution_count": 1,
   "metadata": {
    "collapsed": true
   },
   "outputs": [],
   "source": [
    "import requests\n",
    "from bs4 import BeautifulSoup\n",
    "from datetime import datetime\n",
    "import time\n",
    "import re\n",
    "import sys"
   ]
  },
  {
   "cell_type": "markdown",
   "metadata": {},
   "source": [
    "## Intro\n",
    "\n",
    "In this week's lecture, we introduced a function `get_members()` which returns tuples of state senators (upper chamber) and house reps (lower chamber) from Illinois. **For this assignment, we will only be looking at the state senators and not the members of the state house.** I've provided a similar function below that returns a list of tuples: \n",
    "\n",
    "  - the senator's name\n",
    "  - their district number\n",
    "  - and their party\n",
    "\n",
    "Our goals in this problem set are:\n",
    "  - To scrape the relative URL (e.g. \"`/senate/SenatorBills.asp?MemberID=1911&GA=98`\" for each senator's list of bills\n",
    "  - To modify the relative URL to be a full URL _which only lists primary-sponsored bills_ (e.g. http://www.ilga.gov/senate/SenatorBills.asp?MemberID=1911&GA=98&Primary=True — note the \"`&Primary=True`\")\n",
    "  - To automatically scrape that list of bills primarily sponsored by each senator\n",
    "\n",
    "(Also note the \"GA=98\" part of the URLs — we're going to be sticking to the previous term's senators (the \"98th\" assembly)\n",
    "\n",
    "Run the code below and make sure it works, then we'll get started."
   ]
  },
  {
   "cell_type": "code",
   "execution_count": 2,
   "metadata": {
    "collapsed": false
   },
   "outputs": [
    {
     "data": {
      "text/plain": [
       "[(u'Pamela J. Althoff', 32, u'R'),\n",
       " (u'Jason A. Barickman', 53, u'R'),\n",
       " (u'Scott M Bennett', 52, u'D'),\n",
       " (u'Jennifer Bertino-Tarrant', 49, u'D'),\n",
       " (u'Daniel Biss', 9, u'D')]"
      ]
     },
     "execution_count": 2,
     "metadata": {},
     "output_type": "execute_result"
    }
   ],
   "source": [
    "# modified code from Tuesday's lecture\n",
    "def get_members(url):\n",
    "    src = requests.get(url).text\n",
    "    soup = BeautifulSoup(src)\n",
    "    rows = soup.select('tr')\n",
    "    members = []\n",
    "    for row in rows:\n",
    "        detailCells = row.select('td.detail')\n",
    "        if len(detailCells) is not 5:\n",
    "            continue\n",
    "        rowData = [cell.text for cell in detailCells]\n",
    "        name = rowData[0]\n",
    "        district = int(rowData[3])\n",
    "        party = rowData[4]\n",
    "        tup = (name,district,party)\n",
    "        members.append(tup)\n",
    "    return(members)\n",
    "\n",
    "senateMembers = get_members('http://www.ilga.gov/senate/default.asp?GA=98')\n",
    "senateMembers[0:5]"
   ]
  },
  {
   "cell_type": "markdown",
   "metadata": {},
   "source": [
    "## 1. Explain the function `get_members`\n",
    "\n",
    "Describe, in English, what is going on when this function executes. Pay close attention to the uses of the `select()` function. Feel free to pepper the code with `print` commands and `type()` function calls so that you know what the types of different objects are."
   ]
  },
  {
   "cell_type": "markdown",
   "metadata": {},
   "source": [
    "**Your markdown answer here**"
   ]
  },
  {
   "cell_type": "markdown",
   "metadata": {},
   "source": [
    "## 2. Get HREF element pointint to members' bills. \n",
    "\n",
    "The `get_members()` function above uses the <a href=\"http://www.crummy.com/software/BeautifulSoup/bs4/doc/\">`BeautifulSoup`</a> library to scrape the Illinois General Assembly website and pull out the information about the senators and representatives.\n",
    "\n",
    "As you can see from the example bill URLs provided in the intro above, the format for the list of bills in 2014 for a given senator is:\n",
    "\n",
    "http://www.ilga.gov/senate/SenatorBills.asp + ? + GA=98 + &MemberID=**_memberID_** + &Primary=True\n",
    "\n",
    "to get something like:\n",
    "\n",
    "http://www.ilga.gov/senate/SenatorBills.asp?MemberID=1911&GA=98&Primary=True\n",
    "\n",
    "You should be able to see that, unfortunately, _memberID_ is not currently something pulled out in our scraping function `get_members()`. \n",
    "\n",
    "Your initial task is to modify `get_members()` so that we also **retrieve the relative URL which points to the corresponding page of primary-sponsored bills**, for each member, and return it along with their name, district, and party.\n",
    "\n",
    "I've pasted `get_members()` code below. Modify it to return the bills URL as a 4th element of the tuples returned by the function.\n",
    "\n",
    "Tips: \n",
    "\n",
    "* To do this, you will want to get the appropriate anchor element (`<a>`) in each legislator's row of the table. You can again use the `.select()` method on the `row` object in the loop to do this — similar to the command that finds all of the `td.detail` cells in the row. Remember that we only want the link to the legislator's bills, not the committees or the legislator's profile page.\n",
    "* The anchor elements' HTML will look like `<a href=\"/senate/Senator.asp/...\">Bills</a>`. The string in the `href` attribute contains the **relative** link we are after. You can access an attribute of a BeatifulSoup `Tag` object the same way you access a Python dictionary: `anchor['attributeName']`. (See the <a href=\"http://www.crummy.com/software/BeautifulSoup/bs4/doc/#tag\">documentation</a> for more details).\n",
    "* NOTE: There are a _lot_ of different ways to use BeautifulSoup to get things done; whatever you need to do to pull that HREF out is fine. Posting on the etherpad is recommended for discussing different strategies."
   ]
  },
  {
   "cell_type": "code",
   "execution_count": 4,
   "metadata": {
    "collapsed": true
   },
   "outputs": [],
   "source": [
    "# FILL ME OUT\n",
    "def get_members(url):\n",
    "    src = requests.get(url).text\n",
    "    soup = BeautifulSoup(src)\n",
    "    rows = soup.select('tr')\n",
    "    members = []\n",
    "    for row in rows:\n",
    "        detailCells = row.select('td.detail')\n",
    "        if len(detailCells) is not 5:\n",
    "            continue\n",
    "        rowData = [cell.text for cell in detailCells]\n",
    "        name = rowData[0]\n",
    "        district = int(rowData[3])\n",
    "        party = rowData[4]\n",
    "        \n",
    "        # YOUR CODE HERE\n",
    "        \n",
    "        tup = (name,district,party) # might want to modify this line too\n",
    "        members.append(tup)\n",
    "    return(members)"
   ]
  },
  {
   "cell_type": "code",
   "execution_count": null,
   "metadata": {
    "collapsed": true
   },
   "outputs": [],
   "source": [
    "# SOLUTION\n",
    "def get_members(url):\n",
    "    src = requests.get(url).text\n",
    "    soup = BeautifulSoup(src)\n",
    "    rows = soup.select('tr')\n",
    "    members = []\n",
    "    for row in rows:\n",
    "        detailCells = row.select('td.detail')\n",
    "        if len(detailCells) is not 5:\n",
    "            continue\n",
    "        rowData = [cell.text for cell in detailCells]\n",
    "        name = rowData[0]\n",
    "        district = int(rowData[3])\n",
    "        party = rowData[4]\n",
    "        href = row.select('a')[1]['href']\n",
    "        tup = (name,district,party,href)\n",
    "        members.append(tup)\n",
    "    return(members)"
   ]
  },
  {
   "cell_type": "code",
   "execution_count": 5,
   "metadata": {
    "collapsed": false
   },
   "outputs": [
    {
     "data": {
      "text/plain": [
       "[(u'Pamela J. Althoff', 32, u'R', 'SenatorBills.asp?GA=98&MemberID=1911'),\n",
       " (u'Jason A. Barickman', 53, u'R', 'SenatorBills.asp?GA=98&MemberID=2018'),\n",
       " (u'Scott M Bennett', 52, u'D', 'SenatorBills.asp?GA=98&MemberID=2272'),\n",
       " (u'Jennifer Bertino-Tarrant',\n",
       "  49,\n",
       "  u'D',\n",
       "  'SenatorBills.asp?GA=98&MemberID=2022'),\n",
       " (u'Daniel Biss', 9, u'D', 'SenatorBills.asp?GA=98&MemberID=2020')]"
      ]
     },
     "execution_count": 5,
     "metadata": {},
     "output_type": "execute_result"
    }
   ],
   "source": [
    "# Uncomment to test\n",
    "\n",
    "senateMembers = get_members('http://www.ilga.gov/senate/default.asp?GA=98')\n",
    "senateMembers[:5]"
   ]
  },
  {
   "cell_type": "markdown",
   "metadata": {},
   "source": [
    "## 3. Modify to Full Path\n",
    "\n",
    "The HREF you got above is what's called a _relative_ URL: i.e., it looks like this:\n",
    "  \n",
    "  `SenatorBills.asp?GA=98&MemberID=2018`\n",
    "  \n",
    "  as opposed to having a full path, like:\n",
    "  \n",
    "  `http://www.ilga.gov/senate/SenatorBills.asp?GA=98&MemberID=2018`\n",
    "  \n",
    "Paste the function you wrote above, and modify the function again to get the **full path** of the members' bills.\n",
    "\n",
    "**Hint**: You will have to add the appropriate prefix for the senate to the returned string (and thus transform the HREF into a full-fledged URL), i.e., \"`http://www.ilga.gov/senate/`\".\n",
    "\n",
    "You'll also have to add a suffix, \"&Primary=True\" because we only want the bills where the senator is the primary author."
   ]
  },
  {
   "cell_type": "code",
   "execution_count": null,
   "metadata": {
    "collapsed": true
   },
   "outputs": [],
   "source": [
    "# FILL ME OUT\n",
    "def get_members(url):\n",
    "    pass"
   ]
  },
  {
   "cell_type": "code",
   "execution_count": 6,
   "metadata": {
    "collapsed": true
   },
   "outputs": [],
   "source": [
    "# SOLUTION\n",
    "def get_members(url):\n",
    "    src = requests.get(url).text\n",
    "    soup = BeautifulSoup(src)\n",
    "    rows = soup.select('tr')\n",
    "    members = []\n",
    "    for row in rows:\n",
    "        detailCells = row.select('td.detail')\n",
    "        if len(detailCells) is not 5:\n",
    "            continue\n",
    "        rowData = [cell.text for cell in detailCells]\n",
    "        name = rowData[0]\n",
    "        district = int(rowData[3])\n",
    "        party = rowData[4]\n",
    "        # get relative path\n",
    "        href = row.select('a')[1]['href']\n",
    "        # make full path\n",
    "        full_path = \"http://www.ilga.gov/senate/\" + href + \"&Primary=True\"\n",
    "        tup = (name,district,party,full_path)\n",
    "        members.append(tup)\n",
    "    return(members)"
   ]
  },
  {
   "cell_type": "code",
   "execution_count": 7,
   "metadata": {
    "collapsed": false
   },
   "outputs": [
    {
     "data": {
      "text/plain": [
       "[(u'Pamela J. Althoff',\n",
       "  32,\n",
       "  u'R',\n",
       "  'http://www.ilga.gov/senate/SenatorBills.asp?GA=98&MemberID=1911&Primary=True'),\n",
       " (u'Jason A. Barickman',\n",
       "  53,\n",
       "  u'R',\n",
       "  'http://www.ilga.gov/senate/SenatorBills.asp?GA=98&MemberID=2018&Primary=True'),\n",
       " (u'Scott M Bennett',\n",
       "  52,\n",
       "  u'D',\n",
       "  'http://www.ilga.gov/senate/SenatorBills.asp?GA=98&MemberID=2272&Primary=True'),\n",
       " (u'Jennifer Bertino-Tarrant',\n",
       "  49,\n",
       "  u'D',\n",
       "  'http://www.ilga.gov/senate/SenatorBills.asp?GA=98&MemberID=2022&Primary=True'),\n",
       " (u'Daniel Biss',\n",
       "  9,\n",
       "  u'D',\n",
       "  'http://www.ilga.gov/senate/SenatorBills.asp?GA=98&MemberID=2020&Primary=True')]"
      ]
     },
     "execution_count": 7,
     "metadata": {},
     "output_type": "execute_result"
    }
   ],
   "source": [
    "# Uncomment to test\n",
    "senateMembers = get_members('http://www.ilga.gov/senate/default.asp?GA=98')\n",
    "senateMembers[0:5]"
   ]
  },
  {
   "cell_type": "markdown",
   "metadata": {},
   "source": [
    "## 4.  Create dictionary of senate members.\n",
    "\n",
    "Given the `senateMembers`  list, we want to create a new dictionary `members_dict` which has as its keys the district number (e.g. ` 32`) and as its values, the entire tuple as returned by `get_members()` (name, district number, party, url). We can do this because the district number is a unique identifier for each senator.\n",
    "\n",
    "Calling `members_dict[32]`, for example, should return the 4-tuple:\n",
    "\n",
    "```(u'Pamela J. Althoff',\n",
    "32,\n",
    "u'R',\n",
    "'http://www.ilga.gov/senate/SenatorBills.asp?GA=98&MemberID=1911&Primary=True')\n",
    "```.\n",
    "\n",
    "(We'll use this later to look up the URL.)\n",
    "\n",
    "I've started the code for you. Fill out the rest:"
   ]
  },
  {
   "cell_type": "code",
   "execution_count": 8,
   "metadata": {
    "collapsed": true
   },
   "outputs": [],
   "source": [
    "# FILL ME OUT\n",
    "members_dict = {}\n",
    "for member in senateMembers:\n",
    "    # YOUR CODE HERE\n",
    "    pass"
   ]
  },
  {
   "cell_type": "code",
   "execution_count": 25,
   "metadata": {
    "collapsed": false
   },
   "outputs": [],
   "source": [
    "# SOLUTION\n",
    "members_dict = {}\n",
    "for member in senateMembers:\n",
    "    members_dict[member[1]] = member"
   ]
  },
  {
   "cell_type": "code",
   "execution_count": 26,
   "metadata": {
    "collapsed": false
   },
   "outputs": [
    {
     "data": {
      "text/plain": [
       "(u'Pamela J. Althoff',\n",
       " 32,\n",
       " u'R',\n",
       " 'http://www.ilga.gov/senate/SenatorBills.asp?GA=98&MemberID=1911&Primary=True')"
      ]
     },
     "execution_count": 26,
     "metadata": {},
     "output_type": "execute_result"
    }
   ],
   "source": [
    "# Uncomment to test  \n",
    "members_dict[32]"
   ]
  },
  {
   "cell_type": "markdown",
   "metadata": {},
   "source": [
    "## 4. Scrape Bills\n",
    "\n",
    "Now we want to scrape the webpages corresponding to bills.\n",
    "\n",
    "Write a function called `get_bills(url)` to parse a given Bills URL. This will involve:\n",
    "\n",
    "  - requesting the URL using the <a href=\"http://docs.python-requests.org/en/latest/\">`requests`</a> library\n",
    "  - using the features of the `BeautifulSoup` library to find all of the `<td>` elements with the class 'billlist'\n",
    "  - return a _list_ of tuples, each with:\n",
    "      - the bill id (1st column) \n",
    "          - **NOTE:** we only want you to accept Senate bills with valid names; these start with 'SB' and end with a number. We created a function `is_valid_senatebill_id()` to help you decide if it is valid or not. Otherwise, don't add it to the list!\n",
    "      - description (2nd column)\n",
    "      - chamber (S or H) (3rd column)\n",
    "      - the last action (4th column)\n",
    "      - the last action date (5th column)\n",
    "      \n",
    "I've started the function for you. Fill in the rest."
   ]
  },
  {
   "cell_type": "code",
   "execution_count": 20,
   "metadata": {
    "collapsed": true
   },
   "outputs": [],
   "source": [
    "# DO NOT EDIT THIS.\n",
    "# This function returns True if the bill in question is a Senate Bill ('SB') followed by a number. \n",
    "def is_valid_senatebill_id(bill_id_str):\n",
    "    match = re.match('SB[0-9]+$',bill_id_str)\n",
    "    if match: \n",
    "        return True\n",
    "    else:\n",
    "        return False"
   ]
  },
  {
   "cell_type": "code",
   "execution_count": 21,
   "metadata": {
    "collapsed": true
   },
   "outputs": [],
   "source": [
    "# COMPLETE THIS FUNCTION\n",
    "def get_bills(url):\n",
    "    src = requests.get(url).text\n",
    "    soup = BeautifulSoup(src)\n",
    "    rows = soup.select('tr')\n",
    "    bills = []\n",
    "    for row in rows:\n",
    "        \n",
    "        # YOUR CODE HERE\n",
    "               \n",
    "        tup = (bill_id,description,champber,last_action,last_action_date)\n",
    "        bills.append(tup)\n",
    "    return(bills)"
   ]
  },
  {
   "cell_type": "code",
   "execution_count": 11,
   "metadata": {
    "collapsed": true
   },
   "outputs": [],
   "source": [
    "# SOLUTION\n",
    "def get_bills(url):\n",
    "    src = requests.get(url).text\n",
    "    soup = BeautifulSoup(src)\n",
    "    rows = soup.select('tr')\n",
    "    bills = []\n",
    "    for row in rows:\n",
    "        detailCells = row.select('td.billlist')\n",
    "        if len(detailCells) is not 5:\n",
    "            continue\n",
    "        rowData = [cell.text for cell in row]\n",
    "        if is_valid_senatebill_id(rowData[0]) is False:\n",
    "            continue\n",
    "        bill_id = rowData[0]\n",
    "        description = rowData[2]\n",
    "        champber = rowData[3]\n",
    "        last_action = rowData[4]\n",
    "        last_action_date = rowData[5] \n",
    "        tup = (bill_id,description,champber,last_action,last_action_date)\n",
    "        bills.append(tup)\n",
    "    return(bills)"
   ]
  },
  {
   "cell_type": "code",
   "execution_count": 12,
   "metadata": {
    "collapsed": false
   },
   "outputs": [
    {
     "data": {
      "text/plain": [
       "[(u'SB27',\n",
       "  u'MEDICAID BUDGET NOTE ACT',\n",
       "  u'S',\n",
       "  u'Session Sine Die',\n",
       "  u'1/13/2015'),\n",
       " (u'SB28',\n",
       "  u'HOMELESS VETERANS SHELTER ACT',\n",
       "  u'S',\n",
       "  u'Session Sine Die',\n",
       "  u'1/13/2015'),\n",
       " (u'SB29', u'ROAD FUND-NO TRANSFERS', u'S', u'Session Sine Die', u'1/13/2015'),\n",
       " (u'SB33',\n",
       "  u'EPA-RULES-DOCUMENT SUBMISSION',\n",
       "  u'S',\n",
       "  u'Public Act . . . . . . . . . 98-0072',\n",
       "  u'7/15/2013'),\n",
       " (u'SB104',\n",
       "  u'MIN WAGE-OVERTIME-ALTERN SHIFT',\n",
       "  u'S',\n",
       "  u'Session Sine Die',\n",
       "  u'1/13/2015')]"
      ]
     },
     "execution_count": 12,
     "metadata": {},
     "output_type": "execute_result"
    }
   ],
   "source": [
    "# uncomment to test your code:\n",
    "get_bills('http://www.ilga.gov/senate/SenatorBills.asp?GA=98&MemberID=1911&Primary=True')[0:5]"
   ]
  },
  {
   "cell_type": "markdown",
   "metadata": {},
   "source": [
    "## 6. Get all the bills\n",
    "\n",
    "Finally, create a dictionary `bills_dict` which maps a district number (the key) onto a list_of_bills (the value) eminating from that district. You can do this by looping over all of the senate members in `members_dict` and calling `get_bills()` for each of their associated bill URLs.\n",
    "\n",
    "NOTE: please call the function `time.sleep(0.5)` for each iteration of the loop, so that we don't destroy the state's web site."
   ]
  },
  {
   "cell_type": "code",
   "execution_count": null,
   "metadata": {
    "collapsed": true
   },
   "outputs": [],
   "source": [
    "# YOUR CODE HERE"
   ]
  },
  {
   "cell_type": "code",
   "execution_count": 13,
   "metadata": {
    "collapsed": false
   },
   "outputs": [
    {
     "name": "stdout",
     "output_type": "stream",
     "text": [
      "1\n",
      "2\n",
      "3\n",
      "4\n",
      "5\n",
      "6\n",
      "7\n",
      "8\n",
      "9\n",
      "10\n",
      "11\n",
      "12\n",
      "13\n",
      "14\n",
      "15\n",
      "16\n",
      "17\n",
      "18\n",
      "19\n",
      "20\n",
      "21\n",
      "22\n",
      "23\n",
      "24\n",
      "25\n",
      "26\n",
      "27\n",
      "28\n",
      "29\n",
      "30\n",
      "31\n",
      "32\n",
      "33\n",
      "34\n",
      "35\n",
      "36\n",
      "37\n",
      "38\n",
      "39\n",
      "40\n",
      "41\n",
      "42\n",
      "43\n",
      "44\n",
      "45\n",
      "46\n",
      "47\n",
      "48\n",
      "49\n",
      "50\n",
      "51\n",
      "52\n",
      "53\n",
      "54\n",
      "55\n",
      "56\n",
      "57\n",
      "58\n",
      "59\n"
     ]
    }
   ],
   "source": [
    "# SOLUTION\n",
    "bills_dict = {}\n",
    "for member in members_dict:\n",
    "    bills_dict[member] = get_bills(members_dict[member][3])\n",
    "    time.sleep(0.5)"
   ]
  },
  {
   "cell_type": "code",
   "execution_count": 16,
   "metadata": {
    "collapsed": false
   },
   "outputs": [
    {
     "data": {
      "text/plain": [
       "[(u'SB27',\n",
       "  u'MEDICAID BUDGET NOTE ACT',\n",
       "  u'S',\n",
       "  u'Session Sine Die',\n",
       "  u'1/13/2015'),\n",
       " (u'SB28',\n",
       "  u'HOMELESS VETERANS SHELTER ACT',\n",
       "  u'S',\n",
       "  u'Session Sine Die',\n",
       "  u'1/13/2015'),\n",
       " (u'SB29', u'ROAD FUND-NO TRANSFERS', u'S', u'Session Sine Die', u'1/13/2015'),\n",
       " (u'SB33',\n",
       "  u'EPA-RULES-DOCUMENT SUBMISSION',\n",
       "  u'S',\n",
       "  u'Public Act . . . . . . . . . 98-0072',\n",
       "  u'7/15/2013'),\n",
       " (u'SB104',\n",
       "  u'MIN WAGE-OVERTIME-ALTERN SHIFT',\n",
       "  u'S',\n",
       "  u'Session Sine Die',\n",
       "  u'1/13/2015')]"
      ]
     },
     "execution_count": 16,
     "metadata": {},
     "output_type": "execute_result"
    }
   ],
   "source": [
    "# uncomment to test\n",
    "bills_dict[32][:5]"
   ]
  },
  {
   "cell_type": "code",
   "execution_count": null,
   "metadata": {
    "collapsed": true
   },
   "outputs": [],
   "source": []
  }
 ],
 "metadata": {
  "kernelspec": {
   "display_name": "Python 2",
   "language": "python",
   "name": "python2"
  },
  "language_info": {
   "codemirror_mode": {
    "name": "ipython",
    "version": 2
   },
   "file_extension": ".py",
   "mimetype": "text/x-python",
   "name": "python",
   "nbconvert_exporter": "python",
   "pygments_lexer": "ipython2",
   "version": "2.7.9"
  }
 },
 "nbformat": 4,
 "nbformat_minor": 0
}
