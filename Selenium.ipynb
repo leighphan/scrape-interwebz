{
 "cells": [
  {
   "cell_type": "code",
   "execution_count": 1,
   "metadata": {
    "collapsed": true
   },
   "outputs": [],
   "source": [
    "from selenium import webdriver\n",
    "from selenium.webdriver.common.keys import Keys\n",
    "from bs4 import BeautifulSoup"
   ]
  },
  {
   "cell_type": "code",
   "execution_count": 2,
   "metadata": {
    "collapsed": false
   },
   "outputs": [],
   "source": [
    "# setup driver\n",
    "driver = webdriver.Firefox()"
   ]
  },
  {
   "cell_type": "code",
   "execution_count": 13,
   "metadata": {
    "collapsed": true
   },
   "outputs": [],
   "source": [
    "# go to page\n",
    "driver.get(\"http://wbsec.gov.in/(S(eoxjutirydhdvx550untivvu))/DetailedResult/Detailed_gp_2013.aspx\")"
   ]
  },
  {
   "cell_type": "code",
   "execution_count": 14,
   "metadata": {
    "collapsed": true
   },
   "outputs": [],
   "source": [
    "# find \"district\" drop down\n",
    "district = driver.find_element_by_name(\"ddldistrict\")"
   ]
  },
  {
   "cell_type": "code",
   "execution_count": 15,
   "metadata": {
    "collapsed": false
   },
   "outputs": [],
   "source": [
    "district.click()"
   ]
  },
  {
   "cell_type": "code",
   "execution_count": 16,
   "metadata": {
    "collapsed": false
   },
   "outputs": [],
   "source": [
    "# find options in that drop down\n",
    "district_options = district.find_elements_by_tag_name(\"option\")"
   ]
  },
  {
   "cell_type": "code",
   "execution_count": 17,
   "metadata": {
    "collapsed": false
   },
   "outputs": [
    {
     "data": {
      "text/plain": [
       "u'Bankura'"
      ]
     },
     "execution_count": 17,
     "metadata": {},
     "output_type": "execute_result"
    }
   ],
   "source": [
    "district_options[1].text"
   ]
  },
  {
   "cell_type": "code",
   "execution_count": 18,
   "metadata": {
    "collapsed": false
   },
   "outputs": [],
   "source": [
    "# save and click on the first option\n",
    "district_text = district_options[1].text\n",
    "district_options[1].click()"
   ]
  },
  {
   "cell_type": "code",
   "execution_count": 19,
   "metadata": {
    "collapsed": false
   },
   "outputs": [],
   "source": [
    "# find the \"block\" drop down\n",
    "block = driver.find_element_by_name(\"ddlblock\")"
   ]
  },
  {
   "cell_type": "code",
   "execution_count": 20,
   "metadata": {
    "collapsed": false
   },
   "outputs": [],
   "source": [
    "# get options\n",
    "block_options = block.find_elements_by_tag_name(\"option\")"
   ]
  },
  {
   "cell_type": "code",
   "execution_count": 21,
   "metadata": {
    "collapsed": false
   },
   "outputs": [],
   "source": [
    "# click on the first option\n",
    "block_options_text = block_options[1].text\n",
    "block_options[1].click()"
   ]
  },
  {
   "cell_type": "code",
   "execution_count": 22,
   "metadata": {
    "collapsed": true
   },
   "outputs": [],
   "source": [
    "# find \"gp\" dropdown\n",
    "gp = driver.find_element_by_name(\"ddlgp\")"
   ]
  },
  {
   "cell_type": "code",
   "execution_count": 23,
   "metadata": {
    "collapsed": true
   },
   "outputs": [],
   "source": [
    "# get options\n",
    "gp_options = gp.find_elements_by_tag_name(\"option\")"
   ]
  },
  {
   "cell_type": "code",
   "execution_count": 24,
   "metadata": {
    "collapsed": true
   },
   "outputs": [],
   "source": [
    "# click on first option\n",
    "gp_options_text = gp_options[1].text\n",
    "gp_options[1].click()"
   ]
  },
  {
   "cell_type": "code",
   "execution_count": 26,
   "metadata": {
    "collapsed": false
   },
   "outputs": [],
   "source": [
    "# get the html for the table\n",
    "table = driver.find_element_by_css_selector(\"#DataGrid1\").get_attribute('innerHTML')"
   ]
  },
  {
   "cell_type": "code",
   "execution_count": 27,
   "metadata": {
    "collapsed": false
   },
   "outputs": [],
   "source": [
    "# soup-ify\n",
    "table = BeautifulSoup(table)"
   ]
  },
  {
   "cell_type": "code",
   "execution_count": 28,
   "metadata": {
    "collapsed": false
   },
   "outputs": [
    {
     "data": {
      "text/plain": [
       "<html><body><tbody><tr style=\"color:#FFFFCC;background-color:#990000;font-weight:bold;\">\n",
       "<td>Seat Name</td><td>Total Electors</td><td>Votes Polled</td><td>Votes Rejected</td><td>OSN</td><td>Candidate Name</td><td>Party Name</td><td>Votes Secured</td>\n",
       "</tr><tr style=\"color:#330099;background-color:LightCyan;font-family:Times New Roman;font-size:Small;\">\n",
       "<td style=\"font-weight:bold;\">\n",
       "<span id=\"DataGrid1_ctl02_txtseat\">I/1</span>\n",
       "<br/>\n",
       "<span id=\"DataGrid1_ctl02_txtReserve\" style=\"color:#993366;\">WOMAN</span>\n",
       "</td><td>\n",
       "<span id=\"DataGrid1_ctl02_lblelectors\">830</span>\n",
       "</td><td>\n",
       "<span id=\"DataGrid1_ctl02_lblVPolled\">646</span>\n",
       "</td><td>\n",
       "<span id=\"DataGrid1_ctl02_lblVRejected\">19</span>\n",
       "</td><td>1</td><td>RITA CHATTOPADHYAY</td><td>IND</td><td>301</td>\n",
       "</tr><tr style=\"color:#330099;background-color:LightCyan;border-color:White;font-family:Times New Roman;font-size:Small;\">\n",
       "<td style=\"font-weight:bold;\">\n",
       "<br/>\n",
       "</td><td>\n",
       "</td><td>\n",
       "</td><td>\n",
       "</td><td>2</td><td>RINA GHOSH</td><td>BJP</td><td>57</td>\n",
       "</tr><tr style=\"color:#330099;background-color:LightCyan;font-family:Times New Roman;font-size:Small;\">\n",
       "<td style=\"font-weight:bold;\">\n",
       "<br/>\n",
       "</td><td>\n",
       "</td><td>\n",
       "</td><td>\n",
       "</td><td>3</td><td>RINA PATRA</td><td>AIFB</td><td>269</td>\n",
       "</tr><tr style=\"color:#330099;background-color:LightCyan;border-color:White;font-family:Times New Roman;font-size:Small;\">\n",
       "<td style=\"font-weight:bold;\">\n",
       "<span id=\"DataGrid1_ctl05_txtseat\">II/2</span>\n",
       "<br/>\n",
       "<span id=\"DataGrid1_ctl05_txtReserve\" style=\"color:#993366;\">SC WOMAN</span>\n",
       "</td><td>\n",
       "<span id=\"DataGrid1_ctl05_lblelectors\">659</span>\n",
       "</td><td>\n",
       "<span id=\"DataGrid1_ctl05_lblVPolled\">528</span>\n",
       "</td><td>\n",
       "<span id=\"DataGrid1_ctl05_lblVRejected\">39</span>\n",
       "</td><td>1</td><td>ANIMA BAURI</td><td>AITC</td><td>210</td>\n",
       "</tr><tr style=\"color:#330099;background-color:LightCyan;font-family:Times New Roman;font-size:Small;\">\n",
       "<td style=\"font-weight:bold;\">\n",
       "<br/>\n",
       "</td><td>\n",
       "</td><td>\n",
       "</td><td>\n",
       "</td><td>2</td><td>APARNA MANDAL</td><td>CPIM</td><td>279</td>\n",
       "</tr><tr style=\"color:#330099;background-color:LightCyan;border-color:White;font-family:Times New Roman;font-size:Small;\">\n",
       "<td style=\"font-weight:bold;\">\n",
       "<span id=\"DataGrid1_ctl07_txtseat\">III/3</span>\n",
       "<br/>\n",
       "<span id=\"DataGrid1_ctl07_txtReserve\" style=\"color:#993366;\">BC</span>\n",
       "</td><td>\n",
       "<span id=\"DataGrid1_ctl07_lblelectors\">1066</span>\n",
       "</td><td>\n",
       "<span id=\"DataGrid1_ctl07_lblVPolled\">747</span>\n",
       "</td><td>\n",
       "<span id=\"DataGrid1_ctl07_lblVRejected\">17</span>\n",
       "</td><td>1</td><td>ABDUL MOTALEB MOLLA</td><td>AITC</td><td>437</td>\n",
       "</tr><tr style=\"color:#330099;background-color:LightCyan;font-family:Times New Roman;font-size:Small;\">\n",
       "<td style=\"font-weight:bold;\">\n",
       "<br/>\n",
       "</td><td>\n",
       "</td><td>\n",
       "</td><td>\n",
       "</td><td>2</td><td>MOLLA ABDUL HANNAN</td><td>CPIM</td><td>293</td>\n",
       "</tr><tr style=\"color:#330099;background-color:LightCyan;border-color:White;font-family:Times New Roman;font-size:Small;\">\n",
       "<td style=\"font-weight:bold;\">\n",
       "<span id=\"DataGrid1_ctl09_txtseat\">IV/4</span>\n",
       "<br/>\n",
       "<span id=\"DataGrid1_ctl09_txtReserve\" style=\"color:#993366;\">BCW</span>\n",
       "</td><td>\n",
       "<span id=\"DataGrid1_ctl09_lblelectors\">541</span>\n",
       "</td><td>\n",
       "<span id=\"DataGrid1_ctl09_lblVPolled\">415</span>\n",
       "</td><td>\n",
       "<span id=\"DataGrid1_ctl09_lblVRejected\">20</span>\n",
       "</td><td>1</td><td>MANISHA BIBI</td><td>CPIM</td><td>200</td>\n",
       "</tr><tr style=\"color:#330099;background-color:LightCyan;font-family:Times New Roman;font-size:Small;\">\n",
       "<td style=\"font-weight:bold;\">\n",
       "<br/>\n",
       "</td><td>\n",
       "</td><td>\n",
       "</td><td>\n",
       "</td><td>2</td><td>RUMANA KHATUN HOSEN</td><td>AITC</td><td>195</td>\n",
       "</tr><tr style=\"color:#330099;background-color:LightCyan;border-color:White;font-family:Times New Roman;font-size:Small;\">\n",
       "<td style=\"font-weight:bold;\">\n",
       "<span id=\"DataGrid1_ctl11_txtseat\">V/5</span>\n",
       "<br/>\n",
       "<span id=\"DataGrid1_ctl11_txtReserve\" style=\"color:#993366;\">GENERAL</span>\n",
       "</td><td>\n",
       "<span id=\"DataGrid1_ctl11_lblelectors\">1275</span>\n",
       "</td><td>\n",
       "<span id=\"DataGrid1_ctl11_lblVPolled\">854</span>\n",
       "</td><td>\n",
       "<span id=\"DataGrid1_ctl11_lblVRejected\">24</span>\n",
       "</td><td>1</td><td>EFTAKHARUL HAQUE MIDDYA</td><td>IND</td><td>7</td>\n",
       "</tr><tr style=\"color:#330099;background-color:LightCyan;font-family:Times New Roman;font-size:Small;\">\n",
       "<td style=\"font-weight:bold;\">\n",
       "<br/>\n",
       "</td><td>\n",
       "</td><td>\n",
       "</td><td>\n",
       "</td><td>2</td><td>MD. AMIR HOSSAIN</td><td>IND</td><td>5</td>\n",
       "</tr><tr style=\"color:#330099;background-color:LightCyan;border-color:White;font-family:Times New Roman;font-size:Small;\">\n",
       "<td style=\"font-weight:bold;\">\n",
       "<br/>\n",
       "</td><td>\n",
       "</td><td>\n",
       "</td><td>\n",
       "</td><td>3</td><td>MD. JAYNAL ABEDIN MOLLA</td><td>AITC</td><td>522</td>\n",
       "</tr><tr style=\"color:#330099;background-color:LightCyan;font-family:Times New Roman;font-size:Small;\">\n",
       "<td style=\"font-weight:bold;\">\n",
       "<br/>\n",
       "</td><td>\n",
       "</td><td>\n",
       "</td><td>\n",
       "</td><td>4</td><td>MD. MEHERULLA</td><td>IND</td><td>6</td>\n",
       "</tr><tr style=\"color:#330099;background-color:LightCyan;border-color:White;font-family:Times New Roman;font-size:Small;\">\n",
       "<td style=\"font-weight:bold;\">\n",
       "<br/>\n",
       "</td><td>\n",
       "</td><td>\n",
       "</td><td>\n",
       "</td><td>5</td><td>SK. SHAHAJAHAN ALI</td><td>IND</td><td>290</td>\n",
       "</tr><tr style=\"color:#330099;background-color:LightCyan;font-family:Times New Roman;font-size:Small;\">\n",
       "<td style=\"font-weight:bold;\">\n",
       "<span id=\"DataGrid1_ctl16_txtseat\">VI/6</span>\n",
       "<br/>\n",
       "<span id=\"DataGrid1_ctl16_txtReserve\" style=\"color:#993366;\">WOMAN</span>\n",
       "</td><td>\n",
       "<span id=\"DataGrid1_ctl16_lblelectors\">1303</span>\n",
       "</td><td>\n",
       "<span id=\"DataGrid1_ctl16_lblVPolled\">1114</span>\n",
       "</td><td>\n",
       "<span id=\"DataGrid1_ctl16_lblVRejected\">53</span>\n",
       "</td><td>1</td><td>PARBATI GHOSHAL</td><td>BJP</td><td>43</td>\n",
       "</tr><tr style=\"color:#330099;background-color:LightCyan;border-color:White;font-family:Times New Roman;font-size:Small;\">\n",
       "<td style=\"font-weight:bold;\">\n",
       "<br/>\n",
       "</td><td>\n",
       "</td><td>\n",
       "</td><td>\n",
       "</td><td>2</td><td>BANI CHINA</td><td>CPIM</td><td>616</td>\n",
       "</tr><tr style=\"color:#330099;background-color:LightCyan;font-family:Times New Roman;font-size:Small;\">\n",
       "<td style=\"font-weight:bold;\">\n",
       "<br/>\n",
       "</td><td>\n",
       "</td><td>\n",
       "</td><td>\n",
       "</td><td>3</td><td>RINKU KAPRI</td><td>AITC</td><td>402</td>\n",
       "</tr><tr style=\"color:#330099;background-color:LightCyan;border-color:White;font-family:Times New Roman;font-size:Small;\">\n",
       "<td style=\"font-weight:bold;\">\n",
       "<span id=\"DataGrid1_ctl19_txtseat\">VII/7</span>\n",
       "<br/>\n",
       "<span id=\"DataGrid1_ctl19_txtReserve\" style=\"color:#993366;\">SC</span>\n",
       "</td><td>\n",
       "<span id=\"DataGrid1_ctl19_lblelectors\">834</span>\n",
       "</td><td>\n",
       "<span id=\"DataGrid1_ctl19_lblVPolled\">662</span>\n",
       "</td><td>\n",
       "<span id=\"DataGrid1_ctl19_lblVRejected\">21</span>\n",
       "</td><td>1</td><td>NIMAI KALINDI</td><td>BJP</td><td>134</td>\n",
       "</tr><tr style=\"color:#330099;background-color:LightCyan;font-family:Times New Roman;font-size:Small;\">\n",
       "<td style=\"font-weight:bold;\">\n",
       "<br/>\n",
       "</td><td>\n",
       "</td><td>\n",
       "</td><td>\n",
       "</td><td>2</td><td>BHAJAN KALINDI</td><td>AITC</td><td>308</td>\n",
       "</tr><tr style=\"color:#330099;background-color:LightCyan;border-color:White;font-family:Times New Roman;font-size:Small;\">\n",
       "<td style=\"font-weight:bold;\">\n",
       "<br/>\n",
       "</td><td>\n",
       "</td><td>\n",
       "</td><td>\n",
       "</td><td>3</td><td>SUNIL MALAKAR</td><td>CPIM</td><td>199</td>\n",
       "</tr><tr style=\"color:#330099;background-color:LightCyan;font-family:Times New Roman;font-size:Small;\">\n",
       "<td style=\"font-weight:bold;\">\n",
       "<span id=\"DataGrid1_ctl22_txtseat\">VIII/8</span>\n",
       "<br/>\n",
       "<span id=\"DataGrid1_ctl22_txtReserve\" style=\"color:#993366;\">GENERAL</span>\n",
       "</td><td>\n",
       "<span id=\"DataGrid1_ctl22_lblelectors\">525</span>\n",
       "</td><td>\n",
       "<span id=\"DataGrid1_ctl22_lblVPolled\">443</span>\n",
       "</td><td>\n",
       "<span id=\"DataGrid1_ctl22_lblVRejected\">14</span>\n",
       "</td><td>1</td><td>DEBASHISH MUKHERJEE</td><td>BJP</td><td>101</td>\n",
       "</tr><tr style=\"color:#330099;background-color:LightCyan;border-color:White;font-family:Times New Roman;font-size:Small;\">\n",
       "<td style=\"font-weight:bold;\">\n",
       "<br/>\n",
       "</td><td>\n",
       "</td><td>\n",
       "</td><td>\n",
       "</td><td>2</td><td>RANJIT SINGHA</td><td>AITC</td><td>209</td>\n",
       "</tr><tr style=\"color:#330099;background-color:LightCyan;font-family:Times New Roman;font-size:Small;\">\n",
       "<td style=\"font-weight:bold;\">\n",
       "<br/>\n",
       "</td><td>\n",
       "</td><td>\n",
       "</td><td>\n",
       "</td><td>3</td><td>SWAPAN BANERJEE</td><td>CPIM</td><td>119</td>\n",
       "</tr><tr style=\"color:#330099;background-color:LightCyan;border-color:White;font-family:Times New Roman;font-size:Small;\">\n",
       "<td style=\"font-weight:bold;\">\n",
       "<span id=\"DataGrid1_ctl25_txtseat\">IX/9</span>\n",
       "<br/>\n",
       "<span id=\"DataGrid1_ctl25_txtReserve\" style=\"color:#993366;\">WOMAN</span>\n",
       "</td><td>\n",
       "<span id=\"DataGrid1_ctl25_lblelectors\">975</span>\n",
       "</td><td>\n",
       "<span id=\"DataGrid1_ctl25_lblVPolled\">778</span>\n",
       "</td><td>\n",
       "<span id=\"DataGrid1_ctl25_lblVRejected\">47</span>\n",
       "</td><td>1</td><td>ATHA BULA</td><td>CPIM</td><td>345</td>\n",
       "</tr><tr style=\"color:#330099;background-color:LightCyan;font-family:Times New Roman;font-size:Small;\">\n",
       "<td style=\"font-weight:bold;\">\n",
       "<br/>\n",
       "</td><td>\n",
       "</td><td>\n",
       "</td><td>\n",
       "</td><td>2</td><td>BANDANA CHINA</td><td>AITC</td><td>386</td>\n",
       "</tr><tr style=\"color:#330099;background-color:LightCyan;border-color:White;font-family:Times New Roman;font-size:Small;\">\n",
       "<td style=\"font-weight:bold;\">\n",
       "<span id=\"DataGrid1_ctl27_txtseat\">X/10</span>\n",
       "<br/>\n",
       "<span id=\"DataGrid1_ctl27_txtReserve\" style=\"color:#993366;\">GENERAL</span>\n",
       "</td><td>\n",
       "<span id=\"DataGrid1_ctl27_lblelectors\">843</span>\n",
       "</td><td>\n",
       "<span id=\"DataGrid1_ctl27_lblVPolled\">678</span>\n",
       "</td><td>\n",
       "<span id=\"DataGrid1_ctl27_lblVRejected\">57</span>\n",
       "</td><td>1</td><td>RANJIT KARAK</td><td>AITC</td><td>245</td>\n",
       "</tr><tr style=\"color:#330099;background-color:LightCyan;font-family:Times New Roman;font-size:Small;\">\n",
       "<td style=\"font-weight:bold;\">\n",
       "<br/>\n",
       "</td><td>\n",
       "</td><td>\n",
       "</td><td>\n",
       "</td><td>2</td><td>SAMIR BAURI</td><td>CPIM</td><td>200</td>\n",
       "</tr><tr style=\"color:#330099;background-color:LightCyan;border-color:White;font-family:Times New Roman;font-size:Small;\">\n",
       "<td style=\"font-weight:bold;\">\n",
       "<br/>\n",
       "</td><td>\n",
       "</td><td>\n",
       "</td><td>\n",
       "</td><td>3</td><td>SUJIT CHAKRABORTY</td><td>INC</td><td>176</td>\n",
       "</tr><tr style=\"color:#330099;background-color:LightCyan;font-family:Times New Roman;font-size:Small;\">\n",
       "<td style=\"font-weight:bold;\">\n",
       "<span id=\"DataGrid1_ctl30_txtseat\">XI/11</span>\n",
       "<br/>\n",
       "<span id=\"DataGrid1_ctl30_txtReserve\" style=\"color:#993366;\">SC WOMAN</span>\n",
       "</td><td>\n",
       "<span id=\"DataGrid1_ctl30_lblelectors\">670</span>\n",
       "</td><td>\n",
       "<span id=\"DataGrid1_ctl30_lblVPolled\">535</span>\n",
       "</td><td>\n",
       "<span id=\"DataGrid1_ctl30_lblVRejected\">23</span>\n",
       "</td><td>1</td><td>JHARNA DAS</td><td>AITC</td><td>300</td>\n",
       "</tr><tr style=\"color:#330099;background-color:LightCyan;border-color:White;font-family:Times New Roman;font-size:Small;\">\n",
       "<td style=\"font-weight:bold;\">\n",
       "<br/>\n",
       "</td><td>\n",
       "</td><td>\n",
       "</td><td>\n",
       "</td><td>2</td><td>RITA MAJUMDER</td><td>CPIM</td><td>212</td>\n",
       "</tr><tr style=\"color:#330099;background-color:LightCyan;font-family:Times New Roman;font-size:Small;\">\n",
       "<td style=\"font-weight:bold;\">\n",
       "<span id=\"DataGrid1_ctl32_txtseat\">XII/12</span>\n",
       "<br/>\n",
       "<span id=\"DataGrid1_ctl32_txtReserve\" style=\"color:#993366;\">WOMAN</span>\n",
       "</td><td>\n",
       "<span id=\"DataGrid1_ctl32_lblelectors\">1181</span>\n",
       "</td><td>\n",
       "<span id=\"DataGrid1_ctl32_lblVPolled\">935</span>\n",
       "</td><td>\n",
       "<span id=\"DataGrid1_ctl32_lblVRejected\">106</span>\n",
       "</td><td>1</td><td>MITHU SHIT</td><td>AITC</td><td>354</td>\n",
       "</tr><tr style=\"color:#330099;background-color:LightCyan;border-color:White;font-family:Times New Roman;font-size:Small;\">\n",
       "<td style=\"font-weight:bold;\">\n",
       "<br/>\n",
       "</td><td>\n",
       "</td><td>\n",
       "</td><td>\n",
       "</td><td>2</td><td>SARAMA PAL</td><td>BJP</td><td>155</td>\n",
       "</tr><tr style=\"color:#330099;background-color:LightCyan;font-family:Times New Roman;font-size:Small;\">\n",
       "<td style=\"font-weight:bold;\">\n",
       "<br/>\n",
       "</td><td>\n",
       "</td><td>\n",
       "</td><td>\n",
       "</td><td>3</td><td>SUSAMA  DHABAL</td><td>CPI</td><td>320</td>\n",
       "</tr><tr style=\"color:#330099;background-color:LightCyan;border-color:White;font-family:Times New Roman;font-size:Small;\">\n",
       "<td style=\"font-weight:bold;\">\n",
       "<span id=\"DataGrid1_ctl35_txtseat\">XIII/13</span>\n",
       "<br/>\n",
       "<span id=\"DataGrid1_ctl35_txtReserve\" style=\"color:#993366;\">SC</span>\n",
       "</td><td>\n",
       "<span id=\"DataGrid1_ctl35_lblelectors\">1047</span>\n",
       "</td><td>\n",
       "<span id=\"DataGrid1_ctl35_lblVPolled\">875</span>\n",
       "</td><td>\n",
       "<span id=\"DataGrid1_ctl35_lblVRejected\">19</span>\n",
       "</td><td>1</td><td>DILIP BAGDI</td><td>BJP</td><td>78</td>\n",
       "</tr><tr style=\"color:#330099;background-color:LightCyan;font-family:Times New Roman;font-size:Small;\">\n",
       "<td style=\"font-weight:bold;\">\n",
       "<br/>\n",
       "</td><td>\n",
       "</td><td>\n",
       "</td><td>\n",
       "</td><td>2</td><td>RITA BAURI</td><td>AITC</td><td>448</td>\n",
       "</tr><tr style=\"color:#330099;background-color:LightCyan;border-color:White;font-family:Times New Roman;font-size:Small;\">\n",
       "<td style=\"font-weight:bold;\">\n",
       "<br/>\n",
       "</td><td>\n",
       "</td><td>\n",
       "</td><td>\n",
       "</td><td>3</td><td>SUNIL BAGDI</td><td>CPIM</td><td>330</td>\n",
       "</tr><tr style=\"color:#330099;background-color:LightCyan;font-family:Times New Roman;font-size:Small;\">\n",
       "<td style=\"font-weight:bold;\">\n",
       "<span id=\"DataGrid1_ctl38_txtseat\">XIV/14</span>\n",
       "<br/>\n",
       "<span id=\"DataGrid1_ctl38_txtReserve\" style=\"color:#993366;\">GENERAL</span>\n",
       "</td><td>\n",
       "<span id=\"DataGrid1_ctl38_lblelectors\">1055</span>\n",
       "</td><td>\n",
       "<span id=\"DataGrid1_ctl38_lblVPolled\">818</span>\n",
       "</td><td>\n",
       "<span id=\"DataGrid1_ctl38_lblVRejected\">47</span>\n",
       "</td><td>1</td><td>AZAD HOSSAIN MIDYA</td><td>INC</td><td>185</td>\n",
       "</tr><tr style=\"color:#330099;background-color:LightCyan;border-color:White;font-family:Times New Roman;font-size:Small;\">\n",
       "<td style=\"font-weight:bold;\">\n",
       "<br/>\n",
       "</td><td>\n",
       "</td><td>\n",
       "</td><td>\n",
       "</td><td>2</td><td>ATARUL  HOQUE</td><td>AITC</td><td>378</td>\n",
       "</tr><tr style=\"color:#330099;background-color:LightCyan;font-family:Times New Roman;font-size:Small;\">\n",
       "<td style=\"font-weight:bold;\">\n",
       "<br/>\n",
       "</td><td>\n",
       "</td><td>\n",
       "</td><td>\n",
       "</td><td>3</td><td>RABIYAL MIDYA</td><td>CPIM</td><td>208</td>\n",
       "</tr><tr style=\"color:#330099;background-color:LightCyan;border-color:White;font-family:Times New Roman;font-size:Small;\">\n",
       "<td style=\"font-weight:bold;\">\n",
       "<span id=\"DataGrid1_ctl41_txtseat\">XV/15</span>\n",
       "<br/>\n",
       "<span id=\"DataGrid1_ctl41_txtReserve\" style=\"color:#993366;\">GENERAL</span>\n",
       "</td><td>\n",
       "<span id=\"DataGrid1_ctl41_lblelectors\">918</span>\n",
       "</td><td>\n",
       "<span id=\"DataGrid1_ctl41_lblVPolled\">659</span>\n",
       "</td><td>\n",
       "<span id=\"DataGrid1_ctl41_lblVRejected\">19</span>\n",
       "</td><td>1</td><td>MANNAN KHAN</td><td>CPIM</td><td>341</td>\n",
       "</tr><tr style=\"color:#330099;background-color:LightCyan;font-family:Times New Roman;font-size:Small;\">\n",
       "<td style=\"font-weight:bold;\">\n",
       "<br/>\n",
       "</td><td>\n",
       "</td><td>\n",
       "</td><td>\n",
       "</td><td>2</td><td>MIDYA  NABIJAN </td><td>AITC</td><td>299</td>\n",
       "</tr><tr style=\"color:#330099;background-color:LightCyan;border-color:White;font-family:Times New Roman;font-size:Small;\">\n",
       "<td style=\"font-weight:bold;\">\n",
       "<span id=\"DataGrid1_ctl43_txtseat\">XVI/16</span>\n",
       "<br/>\n",
       "<span id=\"DataGrid1_ctl43_txtReserve\" style=\"color:#993366;\">BCW</span>\n",
       "</td><td>\n",
       "<span id=\"DataGrid1_ctl43_lblelectors\">937</span>\n",
       "</td><td>\n",
       "<span id=\"DataGrid1_ctl43_lblVPolled\">671</span>\n",
       "</td><td>\n",
       "<span id=\"DataGrid1_ctl43_lblVRejected\">12</span>\n",
       "</td><td>1</td><td>FAYJUN  BEGAM</td><td>AITC</td><td>367</td>\n",
       "</tr><tr style=\"color:#330099;background-color:LightCyan;font-family:Times New Roman;font-size:Small;\">\n",
       "<td style=\"font-weight:bold;\">\n",
       "<br/>\n",
       "</td><td>\n",
       "</td><td>\n",
       "</td><td>\n",
       "</td><td>2</td><td>MUKSEDA BEGAM</td><td>CPIM</td><td>148</td>\n",
       "</tr><tr style=\"color:#330099;background-color:LightCyan;border-color:White;font-family:Times New Roman;font-size:Small;\">\n",
       "<td style=\"font-weight:bold;\">\n",
       "<br/>\n",
       "</td><td>\n",
       "</td><td>\n",
       "</td><td>\n",
       "</td><td>3</td><td>SUFIA KHATUN</td><td>INC</td><td>144</td>\n",
       "</tr><tr style=\"color:#330099;background-color:LightCyan;font-family:Times New Roman;font-size:Small;\">\n",
       "<td style=\"font-weight:bold;\">\n",
       "<span id=\"DataGrid1_ctl46_txtseat\">XVII/17</span>\n",
       "<br/>\n",
       "<span id=\"DataGrid1_ctl46_txtReserve\" style=\"color:#993366;\">BC</span>\n",
       "</td><td>\n",
       "<span id=\"DataGrid1_ctl46_lblelectors\">1155</span>\n",
       "</td><td>\n",
       "<span id=\"DataGrid1_ctl46_lblVPolled\">870</span>\n",
       "</td><td>\n",
       "<span id=\"DataGrid1_ctl46_lblVRejected\">13</span>\n",
       "</td><td>1</td><td>KHAN RUKUBUDDIN</td><td>AITC</td><td>510</td>\n",
       "</tr><tr style=\"color:#330099;background-color:LightCyan;border-color:White;font-family:Times New Roman;font-size:Small;\">\n",
       "<td style=\"font-weight:bold;\">\n",
       "<br/>\n",
       "</td><td>\n",
       "</td><td>\n",
       "</td><td>\n",
       "</td><td>2</td><td>MOSIHUR RAHAMAN MALLICK</td><td>INC</td><td>53</td>\n",
       "</tr><tr style=\"color:#330099;background-color:LightCyan;font-family:Times New Roman;font-size:Small;\">\n",
       "<td style=\"font-weight:bold;\">\n",
       "<br/>\n",
       "</td><td>\n",
       "</td><td>\n",
       "</td><td>\n",
       "</td><td>3</td><td>RABBUL KHAN</td><td>CPIM</td><td>294</td>\n",
       "</tr>\n",
       "</tbody></body></html>"
      ]
     },
     "execution_count": 28,
     "metadata": {},
     "output_type": "execute_result"
    }
   ],
   "source": [
    "table"
   ]
  },
  {
   "cell_type": "code",
   "execution_count": 29,
   "metadata": {
    "collapsed": false
   },
   "outputs": [],
   "source": [
    "# get list of rows\n",
    "rows = [row for row in table.select(\"tr\")]"
   ]
  },
  {
   "cell_type": "code",
   "execution_count": 30,
   "metadata": {
    "collapsed": false
   },
   "outputs": [],
   "source": [
    "#for row in rows:\n",
    "data = []\n",
    "for row in rows[1:]:\n",
    "    dic = {}\n",
    "    dic['seat'] = row.select('td')[0].text\n",
    "    dic['electors'] = row.select('td')[1].text\n",
    "    dic['polled'] = row.select('td')[2].text\n",
    "    dic['rejected'] = row.select('td')[3].text\n",
    "    dic['osn'] = row.select('td')[4].text\n",
    "    dic['candidate'] = row.select('td')[5].text\n",
    "    dic['party'] = row.select('td')[6].text\n",
    "    dic['secured'] = row.select('td')[7].text\n",
    "    data.append(dic)"
   ]
  },
  {
   "cell_type": "code",
   "execution_count": 31,
   "metadata": {
    "collapsed": false
   },
   "outputs": [],
   "source": [
    "# strip whitespace\n",
    "for dic in data:\n",
    "    for key in dic:\n",
    "        dic[key] = dic[key].strip()"
   ]
  },
  {
   "cell_type": "code",
   "execution_count": 32,
   "metadata": {
    "collapsed": false
   },
   "outputs": [
    {
     "data": {
      "text/plain": [
       "False"
      ]
     },
     "execution_count": 32,
     "metadata": {},
     "output_type": "execute_result"
    }
   ],
   "source": [
    "not data[0]['seat']"
   ]
  },
  {
   "cell_type": "code",
   "execution_count": 33,
   "metadata": {
    "collapsed": false
   },
   "outputs": [],
   "source": [
    "#fill out info\n",
    "\n",
    "i = 0\n",
    "while i < len(data):\n",
    "    if data[i]['seat']:\n",
    "        seat = data[i]['seat']\n",
    "        electors = data[i]['electors']\n",
    "        polled = data[i]['polled']\n",
    "        rejected = data[i]['rejected']\n",
    "        i = i+1\n",
    "    else:\n",
    "        data[i]['seat'] = seat\n",
    "        data[i]['electors'] = electors\n",
    "        data[i]['polled'] = polled\n",
    "        data[i]['rejected'] = rejected\n",
    "        i = i+1"
   ]
  },
  {
   "cell_type": "code",
   "execution_count": 34,
   "metadata": {
    "collapsed": false
   },
   "outputs": [
    {
     "data": {
      "text/plain": [
       "[{'candidate': u'RITA CHATTOPADHYAY',\n",
       "  'electors': u'830',\n",
       "  'osn': u'1',\n",
       "  'party': u'IND',\n",
       "  'polled': u'646',\n",
       "  'rejected': u'19',\n",
       "  'seat': u'I/1\\n\\nWOMAN',\n",
       "  'secured': u'301'},\n",
       " {'candidate': u'RINA GHOSH',\n",
       "  'electors': u'830',\n",
       "  'osn': u'2',\n",
       "  'party': u'BJP',\n",
       "  'polled': u'646',\n",
       "  'rejected': u'19',\n",
       "  'seat': u'I/1\\n\\nWOMAN',\n",
       "  'secured': u'57'},\n",
       " {'candidate': u'RINA PATRA',\n",
       "  'electors': u'830',\n",
       "  'osn': u'3',\n",
       "  'party': u'AIFB',\n",
       "  'polled': u'646',\n",
       "  'rejected': u'19',\n",
       "  'seat': u'I/1\\n\\nWOMAN',\n",
       "  'secured': u'269'},\n",
       " {'candidate': u'ANIMA BAURI',\n",
       "  'electors': u'659',\n",
       "  'osn': u'1',\n",
       "  'party': u'AITC',\n",
       "  'polled': u'528',\n",
       "  'rejected': u'39',\n",
       "  'seat': u'II/2\\n\\nSC WOMAN',\n",
       "  'secured': u'210'},\n",
       " {'candidate': u'APARNA MANDAL',\n",
       "  'electors': u'659',\n",
       "  'osn': u'2',\n",
       "  'party': u'CPIM',\n",
       "  'polled': u'528',\n",
       "  'rejected': u'39',\n",
       "  'seat': u'II/2\\n\\nSC WOMAN',\n",
       "  'secured': u'279'}]"
      ]
     },
     "execution_count": 34,
     "metadata": {},
     "output_type": "execute_result"
    }
   ],
   "source": [
    "data[:5]"
   ]
  },
  {
   "cell_type": "code",
   "execution_count": null,
   "metadata": {
    "collapsed": true
   },
   "outputs": [],
   "source": []
  }
 ],
 "metadata": {
  "kernelspec": {
   "display_name": "Python 2",
   "language": "python",
   "name": "python2"
  },
  "language_info": {
   "codemirror_mode": {
    "name": "ipython",
    "version": 2
   },
   "file_extension": ".py",
   "mimetype": "text/x-python",
   "name": "python",
   "nbconvert_exporter": "python",
   "pygments_lexer": "ipython2",
   "version": "2.7.9"
  }
 },
 "nbformat": 4,
 "nbformat_minor": 0
}
